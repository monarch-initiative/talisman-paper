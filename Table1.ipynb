{
 "cells": [
  {
   "cell_type": "code",
   "execution_count": 1,
   "id": "74d9867c",
   "metadata": {},
   "outputs": [],
   "source": [
    "import pandas as pd"
   ]
  },
  {
   "cell_type": "code",
   "execution_count": null,
   "id": "6d1c07bf",
   "metadata": {},
   "outputs": [],
   "source": [
    "df = pd.read_csv('results/processed.tsv', sep='\\t', header=0, index_col=0)\n",
    "df"
   ]
  },
  {
   "cell_type": "code",
   "execution_count": 16,
   "id": "75d9ffc3",
   "metadata": {},
   "outputs": [],
   "source": [
    "df['has_hit'] = 0\n",
    "df.loc[df['true_positives'] > 0, 'has_hit'] = 1"
   ]
  },
  {
   "cell_type": "code",
   "execution_count": 17,
   "id": "18d345b2",
   "metadata": {},
   "outputs": [],
   "source": [
    "df_tophit = df.query(\"top_n == 1 and method=='gpt'\")"
   ]
  },
  {
   "cell_type": "code",
   "execution_count": 10,
   "id": "2cab4eeb",
   "metadata": {},
   "outputs": [
    {
     "data": {
      "text/plain": [
       "3804"
      ]
     },
     "execution_count": 10,
     "metadata": {},
     "output_type": "execute_result"
    }
   ],
   "source": [
    "len(df_tophit.query(\"true_positives == 0\"))"
   ]
  },
  {
   "cell_type": "code",
   "execution_count": 11,
   "id": "d7b65678",
   "metadata": {},
   "outputs": [
    {
     "data": {
      "text/plain": [
       "1380"
      ]
     },
     "execution_count": 11,
     "metadata": {},
     "output_type": "execute_result"
    }
   ],
   "source": [
    "len(df_tophit.query(\"true_positives > 0\"))"
   ]
  },
  {
   "cell_type": "code",
   "execution_count": 14,
   "id": "a2f6c028",
   "metadata": {},
   "outputs": [
    {
     "name": "stderr",
     "output_type": "stream",
     "text": [
      "/var/folders/nc/m4tx21912kv1b8nk3zzx9plr0000gn/T/ipykernel_87313/1580905988.py:1: SettingWithCopyWarning: \n",
      "A value is trying to be set on a copy of a slice from a DataFrame.\n",
      "Try using .loc[row_indexer,col_indexer] = value instead\n",
      "\n",
      "See the caveats in the documentation: https://pandas.pydata.org/pandas-docs/stable/user_guide/indexing.html#returning-a-view-versus-a-copy\n",
      "  df_tophit[\"has_top_term\"] = (df_tophit['true_positives'] > 0).astype(int)\n"
     ]
    }
   ],
   "source": [
    "df_tophit[df_tophit['true_positives']\n",
    "df_tophit.df_tophit[df_tophit['true_positives'] > 0, 'has_top_term'] = 1\n"
   ]
  },
  {
   "cell_type": "code",
   "execution_count": 24,
   "id": "a95380f7",
   "metadata": {},
   "outputs": [
    {
     "data": {
      "text/html": [
       "<div>\n",
       "<style scoped>\n",
       "    .dataframe tbody tr th:only-of-type {\n",
       "        vertical-align: middle;\n",
       "    }\n",
       "\n",
       "    .dataframe tbody tr th {\n",
       "        vertical-align: top;\n",
       "    }\n",
       "\n",
       "    .dataframe thead th {\n",
       "        text-align: right;\n",
       "    }\n",
       "</style>\n",
       "<table border=\"1\" class=\"dataframe\">\n",
       "  <thead>\n",
       "    <tr style=\"text-align: right;\">\n",
       "      <th></th>\n",
       "      <th>source</th>\n",
       "      <th>model</th>\n",
       "      <th>has_hit</th>\n",
       "    </tr>\n",
       "  </thead>\n",
       "  <tbody>\n",
       "    <tr>\n",
       "      <th>0</th>\n",
       "      <td>GO</td>\n",
       "      <td>3.0</td>\n",
       "      <td>0.194444</td>\n",
       "    </tr>\n",
       "    <tr>\n",
       "      <th>1</th>\n",
       "      <td>GO</td>\n",
       "      <td>3.5</td>\n",
       "      <td>0.272569</td>\n",
       "    </tr>\n",
       "    <tr>\n",
       "      <th>2</th>\n",
       "      <td>GO</td>\n",
       "      <td>4.0</td>\n",
       "      <td>0.371528</td>\n",
       "    </tr>\n",
       "    <tr>\n",
       "      <th>3</th>\n",
       "      <td>NONE</td>\n",
       "      <td>3.0</td>\n",
       "      <td>0.144097</td>\n",
       "    </tr>\n",
       "    <tr>\n",
       "      <th>4</th>\n",
       "      <td>NONE</td>\n",
       "      <td>3.5</td>\n",
       "      <td>0.364583</td>\n",
       "    </tr>\n",
       "    <tr>\n",
       "      <th>5</th>\n",
       "      <td>NONE</td>\n",
       "      <td>4.0</td>\n",
       "      <td>0.315972</td>\n",
       "    </tr>\n",
       "    <tr>\n",
       "      <th>6</th>\n",
       "      <td>RefSeq</td>\n",
       "      <td>3.0</td>\n",
       "      <td>0.178819</td>\n",
       "    </tr>\n",
       "    <tr>\n",
       "      <th>7</th>\n",
       "      <td>RefSeq</td>\n",
       "      <td>3.5</td>\n",
       "      <td>0.288194</td>\n",
       "    </tr>\n",
       "    <tr>\n",
       "      <th>8</th>\n",
       "      <td>RefSeq</td>\n",
       "      <td>4.0</td>\n",
       "      <td>0.265625</td>\n",
       "    </tr>\n",
       "  </tbody>\n",
       "</table>\n",
       "</div>"
      ],
      "text/plain": [
       "   source  model   has_hit\n",
       "0      GO    3.0  0.194444\n",
       "1      GO    3.5  0.272569\n",
       "2      GO    4.0  0.371528\n",
       "3    NONE    3.0  0.144097\n",
       "4    NONE    3.5  0.364583\n",
       "5    NONE    4.0  0.315972\n",
       "6  RefSeq    3.0  0.178819\n",
       "7  RefSeq    3.5  0.288194\n",
       "8  RefSeq    4.0  0.265625"
      ]
     },
     "execution_count": 24,
     "metadata": {},
     "output_type": "execute_result"
    }
   ],
   "source": [
    "df_tophit.groupby([\"source\", \"model\"]).mean(\"has_hit\").reset_index()[[\"source\", \"model\", \"has_hit\"]]"
   ]
  },
  {
   "cell_type": "code",
   "execution_count": 36,
   "id": "7b10f355",
   "metadata": {},
   "outputs": [
    {
     "data": {
      "text/html": [
       "<div>\n",
       "<style scoped>\n",
       "    .dataframe tbody tr th:only-of-type {\n",
       "        vertical-align: middle;\n",
       "    }\n",
       "\n",
       "    .dataframe tbody tr th {\n",
       "        vertical-align: top;\n",
       "    }\n",
       "\n",
       "    .dataframe thead th {\n",
       "        text-align: right;\n",
       "    }\n",
       "</style>\n",
       "<table border=\"1\" class=\"dataframe\">\n",
       "  <thead>\n",
       "    <tr style=\"text-align: right;\">\n",
       "      <th></th>\n",
       "      <th>source</th>\n",
       "      <th>model</th>\n",
       "      <th>has_hit</th>\n",
       "    </tr>\n",
       "  </thead>\n",
       "  <tbody>\n",
       "    <tr>\n",
       "      <th>0</th>\n",
       "      <td>GO</td>\n",
       "      <td>3.0</td>\n",
       "      <td>0.614583</td>\n",
       "    </tr>\n",
       "    <tr>\n",
       "      <th>1</th>\n",
       "      <td>GO</td>\n",
       "      <td>3.5</td>\n",
       "      <td>0.697917</td>\n",
       "    </tr>\n",
       "    <tr>\n",
       "      <th>2</th>\n",
       "      <td>GO</td>\n",
       "      <td>4.0</td>\n",
       "      <td>0.864583</td>\n",
       "    </tr>\n",
       "    <tr>\n",
       "      <th>3</th>\n",
       "      <td>NONE</td>\n",
       "      <td>3.0</td>\n",
       "      <td>0.559028</td>\n",
       "    </tr>\n",
       "    <tr>\n",
       "      <th>4</th>\n",
       "      <td>NONE</td>\n",
       "      <td>3.5</td>\n",
       "      <td>0.812500</td>\n",
       "    </tr>\n",
       "    <tr>\n",
       "      <th>5</th>\n",
       "      <td>NONE</td>\n",
       "      <td>4.0</td>\n",
       "      <td>0.798611</td>\n",
       "    </tr>\n",
       "    <tr>\n",
       "      <th>6</th>\n",
       "      <td>RefSeq</td>\n",
       "      <td>3.0</td>\n",
       "      <td>0.517361</td>\n",
       "    </tr>\n",
       "    <tr>\n",
       "      <th>7</th>\n",
       "      <td>RefSeq</td>\n",
       "      <td>3.5</td>\n",
       "      <td>0.739583</td>\n",
       "    </tr>\n",
       "    <tr>\n",
       "      <th>8</th>\n",
       "      <td>RefSeq</td>\n",
       "      <td>4.0</td>\n",
       "      <td>0.756944</td>\n",
       "    </tr>\n",
       "  </tbody>\n",
       "</table>\n",
       "</div>"
      ],
      "text/plain": [
       "   source  model   has_hit\n",
       "0      GO    3.0  0.614583\n",
       "1      GO    3.5  0.697917\n",
       "2      GO    4.0  0.864583\n",
       "3    NONE    3.0  0.559028\n",
       "4    NONE    3.5  0.812500\n",
       "5    NONE    4.0  0.798611\n",
       "6  RefSeq    3.0  0.517361\n",
       "7  RefSeq    3.5  0.739583\n",
       "8  RefSeq    4.0  0.756944"
      ]
     },
     "execution_count": 36,
     "metadata": {},
     "output_type": "execute_result"
    }
   ],
   "source": [
    "df.query(\"top_n==10 and cutoff==0.05 and closure==True\").groupby([\"source\", \"model\"]).\\\n",
    "mean(\"has_hit\").reset_index()[[\"source\", \"model\", \"has_hit\"]]"
   ]
  },
  {
   "cell_type": "code",
   "execution_count": 46,
   "id": "9ede100c",
   "metadata": {},
   "outputs": [],
   "source": [
    "import numpy as np\n",
    "\n",
    "def himax(tbl):\n",
    "    \"\"\"\n",
    "    Prepare a table for publication, highlighting maximum values\n",
    "    \"\"\"\n",
    "    tbl_subset = tbl.select_dtypes(include=[np.number]).columns\n",
    "    return tbl.style.hide().highlight_max(subset=tbl_subset, axis=0, props='font-weight:bold').format(precision=3)\n"
   ]
  },
  {
   "cell_type": "code",
   "execution_count": 47,
   "id": "79a3b058",
   "metadata": {},
   "outputs": [],
   "source": [
    "def has_hit_summary(top_n=10, cutoff=0.05, closure=True):\n",
    "    df_subset = df.query(f\"top_n=={top_n} and cutoff=={cutoff} and closure=={closure}\")\n",
    "    grp = df_subset.groupby([\"source\", \"model\"])\n",
    "    return grp.mean(\"has_hit\").reset_index()[[\"source\", \"model\", \"has_hit\"]]\n",
    "    "
   ]
  },
  {
   "cell_type": "code",
   "execution_count": 48,
   "id": "b83036f9",
   "metadata": {},
   "outputs": [
    {
     "data": {
      "text/html": [
       "<style type=\"text/css\">\n",
       "#T_72f27_row2_col1, #T_72f27_row2_col2, #T_72f27_row5_col1, #T_72f27_row8_col1 {\n",
       "  font-weight: bold;\n",
       "}\n",
       "</style>\n",
       "<table id=\"T_72f27\">\n",
       "  <thead>\n",
       "    <tr>\n",
       "      <th id=\"T_72f27_level0_col0\" class=\"col_heading level0 col0\" >source</th>\n",
       "      <th id=\"T_72f27_level0_col1\" class=\"col_heading level0 col1\" >model</th>\n",
       "      <th id=\"T_72f27_level0_col2\" class=\"col_heading level0 col2\" >has_hit</th>\n",
       "    </tr>\n",
       "  </thead>\n",
       "  <tbody>\n",
       "    <tr>\n",
       "      <td id=\"T_72f27_row0_col0\" class=\"data row0 col0\" >GO</td>\n",
       "      <td id=\"T_72f27_row0_col1\" class=\"data row0 col1\" >3.000</td>\n",
       "      <td id=\"T_72f27_row0_col2\" class=\"data row0 col2\" >0.615</td>\n",
       "    </tr>\n",
       "    <tr>\n",
       "      <td id=\"T_72f27_row1_col0\" class=\"data row1 col0\" >GO</td>\n",
       "      <td id=\"T_72f27_row1_col1\" class=\"data row1 col1\" >3.500</td>\n",
       "      <td id=\"T_72f27_row1_col2\" class=\"data row1 col2\" >0.698</td>\n",
       "    </tr>\n",
       "    <tr>\n",
       "      <td id=\"T_72f27_row2_col0\" class=\"data row2 col0\" >GO</td>\n",
       "      <td id=\"T_72f27_row2_col1\" class=\"data row2 col1\" >4.000</td>\n",
       "      <td id=\"T_72f27_row2_col2\" class=\"data row2 col2\" >0.865</td>\n",
       "    </tr>\n",
       "    <tr>\n",
       "      <td id=\"T_72f27_row3_col0\" class=\"data row3 col0\" >NONE</td>\n",
       "      <td id=\"T_72f27_row3_col1\" class=\"data row3 col1\" >3.000</td>\n",
       "      <td id=\"T_72f27_row3_col2\" class=\"data row3 col2\" >0.559</td>\n",
       "    </tr>\n",
       "    <tr>\n",
       "      <td id=\"T_72f27_row4_col0\" class=\"data row4 col0\" >NONE</td>\n",
       "      <td id=\"T_72f27_row4_col1\" class=\"data row4 col1\" >3.500</td>\n",
       "      <td id=\"T_72f27_row4_col2\" class=\"data row4 col2\" >0.812</td>\n",
       "    </tr>\n",
       "    <tr>\n",
       "      <td id=\"T_72f27_row5_col0\" class=\"data row5 col0\" >NONE</td>\n",
       "      <td id=\"T_72f27_row5_col1\" class=\"data row5 col1\" >4.000</td>\n",
       "      <td id=\"T_72f27_row5_col2\" class=\"data row5 col2\" >0.799</td>\n",
       "    </tr>\n",
       "    <tr>\n",
       "      <td id=\"T_72f27_row6_col0\" class=\"data row6 col0\" >RefSeq</td>\n",
       "      <td id=\"T_72f27_row6_col1\" class=\"data row6 col1\" >3.000</td>\n",
       "      <td id=\"T_72f27_row6_col2\" class=\"data row6 col2\" >0.517</td>\n",
       "    </tr>\n",
       "    <tr>\n",
       "      <td id=\"T_72f27_row7_col0\" class=\"data row7 col0\" >RefSeq</td>\n",
       "      <td id=\"T_72f27_row7_col1\" class=\"data row7 col1\" >3.500</td>\n",
       "      <td id=\"T_72f27_row7_col2\" class=\"data row7 col2\" >0.740</td>\n",
       "    </tr>\n",
       "    <tr>\n",
       "      <td id=\"T_72f27_row8_col0\" class=\"data row8 col0\" >RefSeq</td>\n",
       "      <td id=\"T_72f27_row8_col1\" class=\"data row8 col1\" >4.000</td>\n",
       "      <td id=\"T_72f27_row8_col2\" class=\"data row8 col2\" >0.757</td>\n",
       "    </tr>\n",
       "  </tbody>\n",
       "</table>\n"
      ],
      "text/plain": [
       "<pandas.io.formats.style.Styler at 0x168b40130>"
      ]
     },
     "execution_count": 48,
     "metadata": {},
     "output_type": "execute_result"
    }
   ],
   "source": [
    "himax(has_hit_summary(10, 0.05, True))"
   ]
  },
  {
   "cell_type": "code",
   "execution_count": 49,
   "id": "4fcc9b30",
   "metadata": {},
   "outputs": [
    {
     "data": {
      "text/html": [
       "<style type=\"text/css\">\n",
       "#T_7ac03_row2_col1, #T_7ac03_row2_col2, #T_7ac03_row5_col1, #T_7ac03_row8_col1 {\n",
       "  font-weight: bold;\n",
       "}\n",
       "</style>\n",
       "<table id=\"T_7ac03\">\n",
       "  <thead>\n",
       "    <tr>\n",
       "      <th id=\"T_7ac03_level0_col0\" class=\"col_heading level0 col0\" >source</th>\n",
       "      <th id=\"T_7ac03_level0_col1\" class=\"col_heading level0 col1\" >model</th>\n",
       "      <th id=\"T_7ac03_level0_col2\" class=\"col_heading level0 col2\" >has_hit</th>\n",
       "    </tr>\n",
       "  </thead>\n",
       "  <tbody>\n",
       "    <tr>\n",
       "      <td id=\"T_7ac03_row0_col0\" class=\"data row0 col0\" >GO</td>\n",
       "      <td id=\"T_7ac03_row0_col1\" class=\"data row0 col1\" >3.000</td>\n",
       "      <td id=\"T_7ac03_row0_col2\" class=\"data row0 col2\" >0.260</td>\n",
       "    </tr>\n",
       "    <tr>\n",
       "      <td id=\"T_7ac03_row1_col0\" class=\"data row1 col0\" >GO</td>\n",
       "      <td id=\"T_7ac03_row1_col1\" class=\"data row1 col1\" >3.500</td>\n",
       "      <td id=\"T_7ac03_row1_col2\" class=\"data row1 col2\" >0.410</td>\n",
       "    </tr>\n",
       "    <tr>\n",
       "      <td id=\"T_7ac03_row2_col0\" class=\"data row2 col0\" >GO</td>\n",
       "      <td id=\"T_7ac03_row2_col1\" class=\"data row2 col1\" >4.000</td>\n",
       "      <td id=\"T_7ac03_row2_col2\" class=\"data row2 col2\" >0.583</td>\n",
       "    </tr>\n",
       "    <tr>\n",
       "      <td id=\"T_7ac03_row3_col0\" class=\"data row3 col0\" >NONE</td>\n",
       "      <td id=\"T_7ac03_row3_col1\" class=\"data row3 col1\" >3.000</td>\n",
       "      <td id=\"T_7ac03_row3_col2\" class=\"data row3 col2\" >0.222</td>\n",
       "    </tr>\n",
       "    <tr>\n",
       "      <td id=\"T_7ac03_row4_col0\" class=\"data row4 col0\" >NONE</td>\n",
       "      <td id=\"T_7ac03_row4_col1\" class=\"data row4 col1\" >3.500</td>\n",
       "      <td id=\"T_7ac03_row4_col2\" class=\"data row4 col2\" >0.535</td>\n",
       "    </tr>\n",
       "    <tr>\n",
       "      <td id=\"T_7ac03_row5_col0\" class=\"data row5 col0\" >NONE</td>\n",
       "      <td id=\"T_7ac03_row5_col1\" class=\"data row5 col1\" >4.000</td>\n",
       "      <td id=\"T_7ac03_row5_col2\" class=\"data row5 col2\" >0.503</td>\n",
       "    </tr>\n",
       "    <tr>\n",
       "      <td id=\"T_7ac03_row6_col0\" class=\"data row6 col0\" >RefSeq</td>\n",
       "      <td id=\"T_7ac03_row6_col1\" class=\"data row6 col1\" >3.000</td>\n",
       "      <td id=\"T_7ac03_row6_col2\" class=\"data row6 col2\" >0.260</td>\n",
       "    </tr>\n",
       "    <tr>\n",
       "      <td id=\"T_7ac03_row7_col0\" class=\"data row7 col0\" >RefSeq</td>\n",
       "      <td id=\"T_7ac03_row7_col1\" class=\"data row7 col1\" >3.500</td>\n",
       "      <td id=\"T_7ac03_row7_col2\" class=\"data row7 col2\" >0.462</td>\n",
       "    </tr>\n",
       "    <tr>\n",
       "      <td id=\"T_7ac03_row8_col0\" class=\"data row8 col0\" >RefSeq</td>\n",
       "      <td id=\"T_7ac03_row8_col1\" class=\"data row8 col1\" >4.000</td>\n",
       "      <td id=\"T_7ac03_row8_col2\" class=\"data row8 col2\" >0.399</td>\n",
       "    </tr>\n",
       "  </tbody>\n",
       "</table>\n"
      ],
      "text/plain": [
       "<pandas.io.formats.style.Styler at 0x168b410f0>"
      ]
     },
     "execution_count": 49,
     "metadata": {},
     "output_type": "execute_result"
    }
   ],
   "source": [
    "himax(has_hit_summary(10, 0.05, False))"
   ]
  },
  {
   "cell_type": "code",
   "execution_count": null,
   "id": "f4730df2",
   "metadata": {},
   "outputs": [],
   "source": []
  }
 ],
 "metadata": {
  "kernelspec": {
   "display_name": "Python 3 (ipykernel)",
   "language": "python",
   "name": "python3"
  },
  "language_info": {
   "codemirror_mode": {
    "name": "ipython",
    "version": 3
   },
   "file_extension": ".py",
   "mimetype": "text/x-python",
   "name": "python",
   "nbconvert_exporter": "python",
   "pygments_lexer": "ipython3",
   "version": "3.10.9"
  }
 },
 "nbformat": 4,
 "nbformat_minor": 5
}
